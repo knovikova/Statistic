{
 "cells": [
  {
   "cell_type": "code",
   "execution_count": 8,
   "metadata": {},
   "outputs": [],
   "source": [
    "import numpy as np\n",
    "import pandas as pd\n",
    "import scipy.stats as stats\n",
    "import matplotlib.pyplot as plt\n",
    "import seaborn as sns\n",
    "\n",
    "from scipy.stats import wilcoxon\n",
    "from scipy.stats import f_oneway\n",
    "from scipy.stats import mannwhitneyu"
   ]
  },
  {
   "cell_type": "markdown",
   "metadata": {},
   "source": [
    "# Часть1: небольшие задачи\n",
    "\n",
    "Предполагается, что для решения заданий № 1-3 будут использоваться разные тесты."
   ]
  },
  {
   "cell_type": "markdown",
   "metadata": {},
   "source": [
    "<div class=\"alert alert-info\">\n",
    "<b>Задание № 1 (Обязательно)</b>\n",
    "Вам даны результаты проверки двух препаратов.\n",
    "    \n",
    "Требуется:\n",
    "- Оценить, есть ли различие в эффекте у этих пациентов?\n",
    "- Визуально подтвердить результат\n",
    "    \n",
    "`A` - результаты для группы людей получающих препарат А.\n",
    "\n",
    "`B` - результаты для другой группы людей, получающих препарат B.\n",
    "    \n",
    "</div>"
   ]
  },
  {
   "cell_type": "code",
   "execution_count": 2,
   "metadata": {},
   "outputs": [
    {
     "name": "stdout",
     "output_type": "stream",
     "text": [
      "t-statistic = -1.733800647210997\n",
      "p-value = 0.08451003973499756\n",
      "\n",
      "Препараты действуют одинаково, не отвергаем нулевую гипотезу.\n"
     ]
    }
   ],
   "source": [
    "np.random.seed(11)\n",
    "A = stats.norm.rvs(scale=30, loc=11, size=100)\n",
    "B = A + stats.norm.rvs(scale=54, loc=11, size=100)\n",
    "\n",
    "# выборки независимые\n",
    "# Н0: различий в эффекте нет\n",
    "t, p = stats.ttest_ind(A, B)\n",
    "print(f't-statistic = {t}\\np-value = {p}')\n",
    "print()\n",
    "\n",
    "if p <= 0.05:\n",
    "    print('Препараты действуют по-разному, принимаем альтернативную гипотезу.')\n",
    "else:\n",
    "    print('Препараты действуют одинаково, не отвергаем нулевую гипотезу.')"
   ]
  },
  {
   "cell_type": "code",
   "execution_count": 8,
   "metadata": {},
   "outputs": [
    {
     "data": {
      "text/plain": [
       "<AxesSubplot:ylabel='Count'>"
      ]
     },
     "execution_count": 8,
     "metadata": {},
     "output_type": "execute_result"
    },
    {
     "data": {
      "image/png": "[encoded data removed]",
      "text/plain": [
       "<Figure size 432x288 with 1 Axes>"
      ]
     },
     "metadata": {
      "needs_background": "light"
     },
     "output_type": "display_data"
    }
   ],
   "source": [
    "# визуализация данных\n",
    "sns.histplot(B)\n",
    "sns.histplot(A, color='green')"
   ]
  },
  {
   "cell_type": "markdown",
   "metadata": {},
   "source": [
    "Визуально распределения данных похожи, средние близки."
   ]
  },
  {
   "cell_type": "markdown",
   "metadata": {},
   "source": [
    "<div class=\"alert alert-info\">\n",
    "<b>Задание № 2 (Обязательно)</b>\n",
    "Вам даны результаты проверки двух препаратов. \n",
    "    \n",
    "Требуется: \n",
    "- Оценить, есть ли различие в эффекте у этих пациентов?\n",
    "- Визуально подтвердить результат\n",
    "    \n",
    "`А` - группа людей без препарата.\n",
    "\n",
    "`B` - та же группа людей, но получающая препарат\n",
    "</div>"
   ]
  },
  {
   "cell_type": "code",
   "execution_count": 19,
   "metadata": {},
   "outputs": [
    {
     "name": "stdout",
     "output_type": "stream",
     "text": [
      "statistic = 1930.0\n",
      "p-value = 0.04077572901549266\n",
      "\n",
      "Наличие эффекта имеет статистические предпосылки, принимаем альтернативную гипотезу.\n"
     ]
    }
   ],
   "source": [
    "np.random.seed(11)\n",
    "A = stats.norm.rvs(scale=30, loc=11, size=100)\n",
    "B = A + stats.norm.rvs(scale=54, loc=11, size=100)\n",
    "\n",
    "# выборки зависимые - это одна и та же группа людей\n",
    "# используем критерий Вилкоксона\n",
    "# Н0: эффект отсутствует\n",
    "stat_w, p_w = wilcoxon(A, B)\n",
    "print(f'statistic = {stat_w}\\np-value = {p_w}')\n",
    "print()\n",
    "\n",
    "if p_w <= 0.05:\n",
    "    print('Наличие эффекта имеет статистические предпосылки, принимаем альтернативную гипотезу.')\n",
    "else:\n",
    "    print('Эффект отсутствует, не отвергаем нулевую гипотезу.')"
   ]
  },
  {
   "cell_type": "code",
   "execution_count": 14,
   "metadata": {},
   "outputs": [
    {
     "data": {
      "text/plain": [
       "<AxesSubplot:ylabel='Count'>"
      ]
     },
     "execution_count": 14,
     "metadata": {},
     "output_type": "execute_result"
    },
    {
     "data": {
      "image/png": "[encoded data removed]",
      "text/plain": [
       "<Figure size 432x288 with 1 Axes>"
      ]
     },
     "metadata": {
      "needs_background": "light"
     },
     "output_type": "display_data"
    }
   ],
   "source": [
    "# визуализация данных\n",
    "sns.histplot(B)\n",
    "sns.histplot(A, color='green')"
   ]
  },
  {
   "cell_type": "markdown",
   "metadata": {},
   "source": [
    "<div class=\"alert alert-info\">\n",
    "<b>Задание № 3 (Обязательно)</b>\n",
    "Допустим вы решили устроить дачный эксперимент. Берем и поливаем одни огурцы водой, другие огурцы водой с удобнением, третью группу огурцов будем поливать минералкой. \n",
    "    \n",
    " - Используя дисперсионный анализ, сделайте выводы о распредлениях результатов. Есть ли эффект от удобрения по сравнению с минералкой? \n",
    " - Помимо результата статистического теста, продемонстрируйте отличия визуально с помощью `boxplot` или `hist`\n",
    "    \n",
    "`water = [1,2,3,4,2,4,2,4,5,2,3,4,2,1,3,4,3,2,5,1]`\n",
    "\n",
    "`nutri = [1,2,4,6,5,6,7,5,4,5,6,7,4,3,5,5,6,5,4,3,5]`\n",
    "\n",
    "`mineral =[2,1,1,3,2,4,2,4,5,4,3,2,3,2,3,1,3,4,5,1,4]`\n",
    "</div>"
   ]
  },
  {
   "cell_type": "code",
   "execution_count": 3,
   "metadata": {},
   "outputs": [
    {
     "name": "stdout",
     "output_type": "stream",
     "text": [
      "F-statistic = 12.525963044834192\n",
      "p-value = 2.9240047906326866e-05\n",
      "\n",
      "Есть различия в эффекте, принимаем альтернативную гипотезу.\n"
     ]
    }
   ],
   "source": [
    "water = [1,2,3,4,2,4,2,4,5,2,3,4,2,1,3,4,3,2,5,1]\n",
    "nutri = [1,2,4,6,5,6,7,5,4,5,6,7,4,3,5,5,6,5,4,3,5]\n",
    "mineral =[2,1,1,3,2,4,2,4,5,4,3,2,3,2,3,1,3,4,5,1,4]\n",
    "\n",
    "# дисперсионный анализ для 3х выборок\n",
    "f, p_f = f_oneway(water, nutri, mineral)\n",
    "print(f'F-statistic = {f}\\np-value = {p_f}')\n",
    "print()\n",
    "\n",
    "if p_f <= 0.05:\n",
    "    print('Есть различия в эффекте, принимаем альтернативную гипотезу.')\n",
    "else:\n",
    "    print('Нет различий при воздействии различных удобрений, не отвергаем нулевую гипотезу.')"
   ]
  },
  {
   "cell_type": "code",
   "execution_count": 5,
   "metadata": {},
   "outputs": [
    {
     "name": "stdout",
     "output_type": "stream",
     "text": [
      "F-statistic = 18.128724672228838\n",
      "p-value = 0.0001213673340124552\n",
      "\n",
      "Есть различия в эффекте, принимаем альтернативную гипотезу.\n"
     ]
    }
   ],
   "source": [
    "# Есть ли эффект от удобрения по сравнению с минералкой?\n",
    "# Н0: эффект отсутствует\n",
    "f2, p2 = f_oneway(nutri, mineral)\n",
    "print(f'F-statistic = {f2}\\np-value = {p2}')\n",
    "print()\n",
    "\n",
    "if p2 <= 0.05:\n",
    "    print('Есть различия в эффекте, принимаем альтернативную гипотезу.')\n",
    "else:\n",
    "    print('Нет различий при воздействии различных удобрений, не отвергаем нулевую гипотезу.')"
   ]
  },
  {
   "cell_type": "code",
   "execution_count": 14,
   "metadata": {},
   "outputs": [
    {
     "name": "stdout",
     "output_type": "stream",
     "text": [
      "   value method\n",
      "0      1  water\n",
      "1      2  water\n",
      "2      3  water\n",
      "3      4  water\n",
      "4      2  water\n"
     ]
    },
    {
     "data": {
      "text/plain": [
       "<AxesSubplot:xlabel='method', ylabel='value'>"
      ]
     },
     "execution_count": 14,
     "metadata": {},
     "output_type": "execute_result"
    },
    {
     "data": {
      "image/png": "[encoded data removed]",
      "text/plain": [
       "<Figure size 432x288 with 1 Axes>"
      ]
     },
     "metadata": {
      "needs_background": "light"
     },
     "output_type": "display_data"
    }
   ],
   "source": [
    "# визуализация данных\n",
    "pouring = pd.DataFrame()\n",
    "pouring['value'] = water + nutri + mineral\n",
    "pouring['method'] = ['water']*len(water) + ['nutri']*len(nutri) + ['mineral']*len(mineral)\n",
    "print(pouring.head())\n",
    "\n",
    "sns.boxplot(x='method', y='value', data=pouring)"
   ]
  },
  {
   "cell_type": "markdown",
   "metadata": {},
   "source": [
    "На графике видно, что разницы между использованием воды и минералки нет. Изменение эффекта в лучшую сторону есть, если применять удобрение."
   ]
  },
  {
   "cell_type": "markdown",
   "metadata": {},
   "source": [
    "# Часть 2: Cookie Cats"
   ]
  },
  {
   "cell_type": "markdown",
   "metadata": {},
   "source": [
    "<div class=\"alert alert-info\">\n",
    "Cookie Cats - чрезвычайно популярная мобильная игра-головоломка, разработанная Tactile Entertainment. Это классическая игра-головоломка в стиле «соедините три», в которой игрок должен соединять плитки одного цвета, чтобы очистить поле и выиграть уровень. Здесь также есть поющие кошки. \n",
    "    \n",
    "По мере прохождения уровней игры игроки время от времени сталкиваются с воротами, которые заставляют их ждать нетривиальное количество времени или совершать покупки в приложении, чтобы продолжить. Помимо стимулирования покупок в приложении, эти ворота служат важной цели - дать игрокам вынужденный перерыв в игре, что, как мы надеемся, приведет к увеличению и продлению удовольствия от игры.\n",
    "    \n",
    "<b>Но где ставить ворота? </b>\n",
    "Первоначально первые ворота были размещены на уровне 30. В этом проекте вам предлагается проанализировать AB-тест, в котором создатели переместили первые ворота в Cookie Cats с 30 уровня на уровень 40. В частности, вам надо рассмотрим влияние A/B теста на удержание игроков.\n",
    "    \n",
    "Данные получены от 90 189 игроков, которые установили игру во время проведения AB-теста. Переменные:\n",
    "\n",
    "* `userid` - уникальный номер, идентифицирующий каждого игрока.\n",
    "\n",
    "* `version` - был ли игрок помещен в контрольную группу (gate_30 - ворота на уровне 30) или в тестовую группу (gate_40 - ворота на уровне 40).\n",
    "\n",
    "* `sum_gamerounds` - количество игровых раундов, сыгранных игроком в течение первой недели после установки\n",
    "* `retention_1` - проигрывший вернулся и поиграл через 1 день после установки?\n",
    "* `retention_7` - проигрывший вернулся и играл через 7 дней после установки?\n",
    "\n",
    "Когда игрок устанавливал игру, ему случайным образом назначали `gate_30` или `gate_40`.\n",
    "    \n",
    "<b>Задание: провести анализ данных и сделать выводы о лучшем месте для установки ворот. </b>\n",
    "    \n",
    "Замечание: приведенных вспомогательных фрагментов кода не хватает для ответа на вопрос. \n",
    "Делать выводы необходимо опираясь на статистические тесты, разобранные в лекции. Большим плюсом будет построение визуализиции для подтверждения ваших выводом. Рекомендую использовать `seaborn` c его `sns.boxplot`/`sns.carplot`, `sns.barplot`, но можно обойтись и обычном `matplotlib`\n",
    "</div>"
   ]
  },
  {
   "cell_type": "code",
   "execution_count": 28,
   "metadata": {},
   "outputs": [
    {
     "data": {
      "text/html": [
       "<div>\n",
       "<style scoped>\n",
       "    .dataframe tbody tr th:only-of-type {\n",
       "        vertical-align: middle;\n",
       "    }\n",
       "\n",
       "    .dataframe tbody tr th {\n",
       "        vertical-align: top;\n",
       "    }\n",
       "\n",
       "    .dataframe thead th {\n",
       "        text-align: right;\n",
       "    }\n",
       "</style>\n",
       "<table border=\"1\" class=\"dataframe\">\n",
       "  <thead>\n",
       "    <tr style=\"text-align: right;\">\n",
       "      <th></th>\n",
       "      <th>userid</th>\n",
       "      <th>version</th>\n",
       "      <th>sum_gamerounds</th>\n",
       "      <th>retention_1</th>\n",
       "      <th>retention_7</th>\n",
       "    </tr>\n",
       "  </thead>\n",
       "  <tbody>\n",
       "    <tr>\n",
       "      <th>0</th>\n",
       "      <td>116</td>\n",
       "      <td>gate_30</td>\n",
       "      <td>3</td>\n",
       "      <td>False</td>\n",
       "      <td>False</td>\n",
       "    </tr>\n",
       "    <tr>\n",
       "      <th>1</th>\n",
       "      <td>337</td>\n",
       "      <td>gate_30</td>\n",
       "      <td>38</td>\n",
       "      <td>True</td>\n",
       "      <td>False</td>\n",
       "    </tr>\n",
       "    <tr>\n",
       "      <th>2</th>\n",
       "      <td>377</td>\n",
       "      <td>gate_40</td>\n",
       "      <td>165</td>\n",
       "      <td>True</td>\n",
       "      <td>False</td>\n",
       "    </tr>\n",
       "    <tr>\n",
       "      <th>3</th>\n",
       "      <td>483</td>\n",
       "      <td>gate_40</td>\n",
       "      <td>1</td>\n",
       "      <td>False</td>\n",
       "      <td>False</td>\n",
       "    </tr>\n",
       "    <tr>\n",
       "      <th>4</th>\n",
       "      <td>488</td>\n",
       "      <td>gate_40</td>\n",
       "      <td>179</td>\n",
       "      <td>True</td>\n",
       "      <td>True</td>\n",
       "    </tr>\n",
       "  </tbody>\n",
       "</table>\n",
       "</div>"
      ],
      "text/plain": [
       "   userid  version  sum_gamerounds  retention_1  retention_7\n",
       "0     116  gate_30               3        False        False\n",
       "1     337  gate_30              38         True        False\n",
       "2     377  gate_40             165         True        False\n",
       "3     483  gate_40               1        False        False\n",
       "4     488  gate_40             179         True         True"
      ]
     },
     "execution_count": 28,
     "metadata": {},
     "output_type": "execute_result"
    }
   ],
   "source": [
    "cookie_cats = 'https://raw.githubusercontent.com/a-milenkin/datasets_for_t-tests/main/cookie_cats.csv'\n",
    "\n",
    "data = pd.read_csv(cookie_cats, error_bad_lines=False)  # Откроем датасет\n",
    "data.head()"
   ]
  },
  {
   "cell_type": "code",
   "execution_count": 29,
   "metadata": {},
   "outputs": [
    {
     "data": {
      "text/html": [
       "<div>\n",
       "<style scoped>\n",
       "    .dataframe tbody tr th:only-of-type {\n",
       "        vertical-align: middle;\n",
       "    }\n",
       "\n",
       "    .dataframe tbody tr th {\n",
       "        vertical-align: top;\n",
       "    }\n",
       "\n",
       "    .dataframe thead th {\n",
       "        text-align: right;\n",
       "    }\n",
       "</style>\n",
       "<table border=\"1\" class=\"dataframe\">\n",
       "  <thead>\n",
       "    <tr style=\"text-align: right;\">\n",
       "      <th></th>\n",
       "      <th>sum_gamerounds</th>\n",
       "      <th>userid</th>\n",
       "    </tr>\n",
       "    <tr>\n",
       "      <th>version</th>\n",
       "      <th></th>\n",
       "      <th></th>\n",
       "    </tr>\n",
       "  </thead>\n",
       "  <tbody>\n",
       "    <tr>\n",
       "      <th>gate_30</th>\n",
       "      <td>2344795</td>\n",
       "      <td>44700</td>\n",
       "    </tr>\n",
       "    <tr>\n",
       "      <th>gate_40</th>\n",
       "      <td>2333530</td>\n",
       "      <td>45489</td>\n",
       "    </tr>\n",
       "  </tbody>\n",
       "</table>\n",
       "</div>"
      ],
      "text/plain": [
       "         sum_gamerounds  userid\n",
       "version                        \n",
       "gate_30         2344795   44700\n",
       "gate_40         2333530   45489"
      ]
     },
     "execution_count": 29,
     "metadata": {},
     "output_type": "execute_result"
    }
   ],
   "source": [
    "data.groupby('version').agg({'sum_gamerounds': 'sum', 'userid': 'count'})"
   ]
  },
  {
   "cell_type": "markdown",
   "metadata": {},
   "source": [
    "Суммарное количество игр в контрольной и тестовой группе отличаются незначительно (в контрольной на на 0,48% больше = 2344795 / 2333530). Размеры выборок немного отличаются (в тестовой на 1,8% больше = 45489 / 44700)."
   ]
  },
  {
   "cell_type": "code",
   "execution_count": 34,
   "metadata": {},
   "outputs": [
    {
     "data": {
      "image/png": "[encoded data removed]",
      "text/plain": [
       "<Figure size 720x360 with 1 Axes>"
      ]
     },
     "metadata": {
      "needs_background": "light"
     },
     "output_type": "display_data"
    }
   ],
   "source": [
    "v_30 = data.loc[data.version == 'gate_30']\n",
    "v_40 = data.loc[data.version == 'gate_40']\n",
    "v_30 = v_30.drop(v_30.loc[v_30.sum_gamerounds > 200].index)\n",
    "v_40 = v_40.drop(v_40.loc[v_40.sum_gamerounds > 200].index)\n",
    "\n",
    "bins = 100\n",
    "plt.figure(figsize=(10, 5))\n",
    "plt.hist(v_30['sum_gamerounds'], bins=bins, alpha=1, edgecolor='black', label='gate 30')\n",
    "plt.hist(v_40['sum_gamerounds'], bins=bins, alpha=0.7, label='gate 40')\n",
    "plt.xticks(range(0, 200, 10))\n",
    "plt.legend(loc='upper right', bbox_to_anchor=(0.45, 0.35))\n",
    "plt.show()"
   ]
  },
  {
   "cell_type": "markdown",
   "metadata": {},
   "source": [
    "Распределение количества игроков, исходя из количества раундов, пройденых в первую неделю, отлично от нормального. Визуально различия не кажутся значительными. Наиболее заметные:\n",
    " - до 10 игр,\n",
    " - в районе 30-40 игр.\n",
    "\n",
    "Используем статистические тесты для более подробного изучения данных."
   ]
  },
  {
   "cell_type": "code",
   "execution_count": 31,
   "metadata": {},
   "outputs": [
    {
     "name": "stdout",
     "output_type": "stream",
     "text": [
      "Mann-Whitney p-value = 0.025\n",
      "Между контрольной и тестовой группой есть различия, принимаем альтернативную гипотезу.\n"
     ]
    }
   ],
   "source": [
    "# выборки независимые, распределение не является нормальным, используем критерий Манна-Уитни\n",
    "# Н0: разница между контрольной и тестовой группой отсутствует\n",
    "x = data[data.version=='gate_30']['sum_gamerounds']\n",
    "y = data[data.version=='gate_40']['sum_gamerounds']\n",
    "\n",
    "stat, p_mw = mannwhitneyu(x, y)\n",
    "print('Mann-Whitney p-value = {:.3f}'.format(p_mw))\n",
    "\n",
    "if p_mw <= 0.05:\n",
    "    print('Между контрольной и тестовой группой есть различия, принимаем альтернативную гипотезу.')\n",
    "else:\n",
    "    print('Между контрольной и тестовой группой нет различий, не отвергаем нулевую гипотезу.')"
   ]
  },
  {
   "cell_type": "code",
   "execution_count": 33,
   "metadata": {},
   "outputs": [
    {
     "data": {
      "text/plain": [
       "<seaborn.axisgrid.FacetGrid at 0xc06be20>"
      ]
     },
     "execution_count": 33,
     "metadata": {},
     "output_type": "execute_result"
    },
    {
     "data": {
      "image/png": "[encoded data removed]",
      "text/plain": [
       "<Figure size 748.875x360 with 2 Axes>"
      ]
     },
     "metadata": {
      "needs_background": "light"
     },
     "output_type": "display_data"
    }
   ],
   "source": [
    "df = data.loc[data['sum_gamerounds'] < 400].copy()\n",
    "\n",
    "sns.catplot(x=\"version\", y=\"sum_gamerounds\",\n",
    "            hue=\"retention_1\", col = 'retention_7',\n",
    "            data=df, kind=\"box\",\n",
    "            height=5, aspect=.95)"
   ]
  },
  {
   "cell_type": "code",
   "execution_count": 55,
   "metadata": {},
   "outputs": [
    {
     "name": "stdout",
     "output_type": "stream",
     "text": [
      "gate_30 1 day retention rate: 44.82%\n",
      "gate_40 1 day retention rate: 44.23%\n"
     ]
    }
   ],
   "source": [
    "# рассчитаем, какова доля игроков, вернувшихся к игре через 1 день после установки игры\n",
    "ret_1_30 = data[(data['version']=='gate_30') & (data['retention_1']==True)]['retention_1'].count()\n",
    "total_30 = data[(data['version']=='gate_30')]['retention_1'].count()\n",
    "print(f'gate_30 1 day retention rate: {round(100 * ret_1_30 / total_30, 2)}%')\n",
    "\n",
    "ret_1_40 = data[(data['version']=='gate_40') & (data['retention_1']==True)]['retention_1'].count()\n",
    "total_40 = data[(data['version']=='gate_40')]['retention_1'].count()\n",
    "print(f'gate_40 1 day retention rate: {round(100 * ret_1_40 / total_40, 2)}%')"
   ]
  },
  {
   "cell_type": "code",
   "execution_count": 57,
   "metadata": {},
   "outputs": [
    {
     "name": "stdout",
     "output_type": "stream",
     "text": [
      "gate_30 7 day retention rate: 19.02%\n",
      "gate_40 7 day retention rate: 18.2%\n"
     ]
    }
   ],
   "source": [
    "# рассчитаем, какова доля игроков, вернувшихся к игре через 7 дней после установки игры\n",
    "ret_7_30 = data[(data['version']=='gate_30') & (data['retention_7']==True)]['retention_7'].count()\n",
    "print(f'gate_30 7 day retention rate: {round(100 * ret_7_30 / total_30, 2)}%')\n",
    "\n",
    "ret_7_40 = data[(data['version']=='gate_40') & (data['retention_7']==True)]['retention_7'].count()\n",
    "print(f'gate_40 7 day retention rate: {round(100 * ret_7_40 / total_40, 2)}%')"
   ]
  },
  {
   "cell_type": "markdown",
   "metadata": {},
   "source": [
    "Количество игроков, вернувшихся к игре через 1 день, при воротах на 30 больше (44.82%), чем при воротах на 40 (44.23%). Аналогично, через 7 дней вернулись к игре большее количество игравших при воротах на 30 (19.02%), чем при воротах на 40 (18.2%).\n",
    "Учитывая результаты статистичего анализа, получаем, что различия между контрольной и тестовой группой могут быть истолкованы в пользу того, чтобы оставить все как есть, т.е. не премещать ворота на 40."
   ]
  },
  {
   "cell_type": "markdown",
   "metadata": {},
   "source": [
    "# Часть 3: Покемоны"
   ]
  },
  {
   "cell_type": "markdown",
   "metadata": {},
   "source": [
    "<div class=\"alert alert-info\">\n",
    "Покемоны - это маленькие существа, которые сражаются друг с другом на соревнованиях. Все покемоны имеют разные характеристики (сила атаки, защиты и т. д.) И относятся к одному или двум так называемым классам (вода, огонь и т. д.).\n",
    "Профессор Оук является изобретателем Pokedex, портативного устройства, которое хранит информацию обо всех существующих покемонах. Как его ведущий специалист по данным, Вы только что получили от него запрос с просьбой осуществить аналитику данных на всех устройствах Pokedex. \n",
    "\n",
    "#### Описание набора данных\n",
    "Профессор Оук скопировал все содержимое память одного устройства Pokedex, в результате чего получился набор данных, с которым Вы будете работать в этой задаче. В этом файле каждая строка представляет характеристики одного покемона:\n",
    "\n",
    "* `pid`: Numeric - ID покемона\n",
    "* `HP`: Numeric - Очки здоровья\n",
    "* `Attack`: Numeric - Сила обычной атаки\n",
    "* `Defense`: Numeric - Сила обычной защиты\n",
    "* `Sp. Atk`: Numeric - Сила специальной атаки\n",
    "* `Sp. Def`: Numeric - Сила специальной защиты\n",
    "* `Speed`: Numeric - Скорость движений\n",
    "* `Legendary`: Boolean - «True», если покемон редкий\n",
    "* `Class 1`: Categorical - Класс покемона\n",
    "* `Class 2`: Categorical - Класс покемона\n",
    "    \n",
    "Обратите внимание, что у покемона может быть один или два класса. Если у покемона два класса, считается, что они имеют одинаковую значимость.\n",
    "</div>"
   ]
  },
  {
   "cell_type": "code",
   "execution_count": 9,
   "metadata": {},
   "outputs": [
    {
     "data": {
      "text/html": [
       "<div>\n",
       "<style scoped>\n",
       "    .dataframe tbody tr th:only-of-type {\n",
       "        vertical-align: middle;\n",
       "    }\n",
       "\n",
       "    .dataframe tbody tr th {\n",
       "        vertical-align: top;\n",
       "    }\n",
       "\n",
       "    .dataframe thead th {\n",
       "        text-align: right;\n",
       "    }\n",
       "</style>\n",
       "<table border=\"1\" class=\"dataframe\">\n",
       "  <thead>\n",
       "    <tr style=\"text-align: right;\">\n",
       "      <th></th>\n",
       "      <th>pid</th>\n",
       "      <th>Name</th>\n",
       "      <th>Class 1</th>\n",
       "      <th>Class 2</th>\n",
       "      <th>HP</th>\n",
       "      <th>Attack</th>\n",
       "      <th>Defense</th>\n",
       "      <th>Sp. Atk</th>\n",
       "      <th>Sp. Def</th>\n",
       "      <th>Speed</th>\n",
       "      <th>Legendary</th>\n",
       "    </tr>\n",
       "  </thead>\n",
       "  <tbody>\n",
       "    <tr>\n",
       "      <th>0</th>\n",
       "      <td>1</td>\n",
       "      <td>Bulbasaur</td>\n",
       "      <td>Grass</td>\n",
       "      <td>Poison</td>\n",
       "      <td>45</td>\n",
       "      <td>49</td>\n",
       "      <td>49</td>\n",
       "      <td>65</td>\n",
       "      <td>65</td>\n",
       "      <td>45</td>\n",
       "      <td>False</td>\n",
       "    </tr>\n",
       "    <tr>\n",
       "      <th>1</th>\n",
       "      <td>2</td>\n",
       "      <td>Ivysaur</td>\n",
       "      <td>Grass</td>\n",
       "      <td>Poison</td>\n",
       "      <td>60</td>\n",
       "      <td>62</td>\n",
       "      <td>63</td>\n",
       "      <td>80</td>\n",
       "      <td>80</td>\n",
       "      <td>60</td>\n",
       "      <td>False</td>\n",
       "    </tr>\n",
       "    <tr>\n",
       "      <th>2</th>\n",
       "      <td>3</td>\n",
       "      <td>Venusaur</td>\n",
       "      <td>Grass</td>\n",
       "      <td>Poison</td>\n",
       "      <td>80</td>\n",
       "      <td>82</td>\n",
       "      <td>83</td>\n",
       "      <td>100</td>\n",
       "      <td>100</td>\n",
       "      <td>80</td>\n",
       "      <td>False</td>\n",
       "    </tr>\n",
       "    <tr>\n",
       "      <th>3</th>\n",
       "      <td>4</td>\n",
       "      <td>Mega Venusaur</td>\n",
       "      <td>Grass</td>\n",
       "      <td>Poison</td>\n",
       "      <td>80</td>\n",
       "      <td>100</td>\n",
       "      <td>123</td>\n",
       "      <td>122</td>\n",
       "      <td>120</td>\n",
       "      <td>80</td>\n",
       "      <td>False</td>\n",
       "    </tr>\n",
       "    <tr>\n",
       "      <th>4</th>\n",
       "      <td>5</td>\n",
       "      <td>Charmander</td>\n",
       "      <td>Fire</td>\n",
       "      <td>NaN</td>\n",
       "      <td>39</td>\n",
       "      <td>52</td>\n",
       "      <td>43</td>\n",
       "      <td>60</td>\n",
       "      <td>50</td>\n",
       "      <td>65</td>\n",
       "      <td>False</td>\n",
       "    </tr>\n",
       "    <tr>\n",
       "      <th>...</th>\n",
       "      <td>...</td>\n",
       "      <td>...</td>\n",
       "      <td>...</td>\n",
       "      <td>...</td>\n",
       "      <td>...</td>\n",
       "      <td>...</td>\n",
       "      <td>...</td>\n",
       "      <td>...</td>\n",
       "      <td>...</td>\n",
       "      <td>...</td>\n",
       "      <td>...</td>\n",
       "    </tr>\n",
       "    <tr>\n",
       "      <th>795</th>\n",
       "      <td>796</td>\n",
       "      <td>Diancie</td>\n",
       "      <td>Rock</td>\n",
       "      <td>Fairy</td>\n",
       "      <td>50</td>\n",
       "      <td>100</td>\n",
       "      <td>150</td>\n",
       "      <td>100</td>\n",
       "      <td>150</td>\n",
       "      <td>50</td>\n",
       "      <td>True</td>\n",
       "    </tr>\n",
       "    <tr>\n",
       "      <th>796</th>\n",
       "      <td>797</td>\n",
       "      <td>Mega Diancie</td>\n",
       "      <td>Rock</td>\n",
       "      <td>Fairy</td>\n",
       "      <td>50</td>\n",
       "      <td>160</td>\n",
       "      <td>110</td>\n",
       "      <td>160</td>\n",
       "      <td>110</td>\n",
       "      <td>110</td>\n",
       "      <td>True</td>\n",
       "    </tr>\n",
       "    <tr>\n",
       "      <th>797</th>\n",
       "      <td>798</td>\n",
       "      <td>Hoopa Confined</td>\n",
       "      <td>Psychic</td>\n",
       "      <td>Ghost</td>\n",
       "      <td>80</td>\n",
       "      <td>110</td>\n",
       "      <td>60</td>\n",
       "      <td>150</td>\n",
       "      <td>130</td>\n",
       "      <td>70</td>\n",
       "      <td>True</td>\n",
       "    </tr>\n",
       "    <tr>\n",
       "      <th>798</th>\n",
       "      <td>799</td>\n",
       "      <td>Hoopa Unbound</td>\n",
       "      <td>Psychic</td>\n",
       "      <td>Dark</td>\n",
       "      <td>80</td>\n",
       "      <td>160</td>\n",
       "      <td>60</td>\n",
       "      <td>170</td>\n",
       "      <td>130</td>\n",
       "      <td>80</td>\n",
       "      <td>True</td>\n",
       "    </tr>\n",
       "    <tr>\n",
       "      <th>799</th>\n",
       "      <td>800</td>\n",
       "      <td>Volcanion</td>\n",
       "      <td>Fire</td>\n",
       "      <td>Water</td>\n",
       "      <td>80</td>\n",
       "      <td>110</td>\n",
       "      <td>120</td>\n",
       "      <td>130</td>\n",
       "      <td>90</td>\n",
       "      <td>70</td>\n",
       "      <td>True</td>\n",
       "    </tr>\n",
       "  </tbody>\n",
       "</table>\n",
       "<p>800 rows × 11 columns</p>\n",
       "</div>"
      ],
      "text/plain": [
       "     pid            Name  Class 1 Class 2  HP  Attack  Defense  Sp. Atk  \\\n",
       "0      1       Bulbasaur    Grass  Poison  45      49       49       65   \n",
       "1      2         Ivysaur    Grass  Poison  60      62       63       80   \n",
       "2      3        Venusaur    Grass  Poison  80      82       83      100   \n",
       "3      4   Mega Venusaur    Grass  Poison  80     100      123      122   \n",
       "4      5      Charmander     Fire     NaN  39      52       43       60   \n",
       "..   ...             ...      ...     ...  ..     ...      ...      ...   \n",
       "795  796         Diancie     Rock   Fairy  50     100      150      100   \n",
       "796  797    Mega Diancie     Rock   Fairy  50     160      110      160   \n",
       "797  798  Hoopa Confined  Psychic   Ghost  80     110       60      150   \n",
       "798  799   Hoopa Unbound  Psychic    Dark  80     160       60      170   \n",
       "799  800       Volcanion     Fire   Water  80     110      120      130   \n",
       "\n",
       "     Sp. Def  Speed  Legendary  \n",
       "0         65     45      False  \n",
       "1         80     60      False  \n",
       "2        100     80      False  \n",
       "3        120     80      False  \n",
       "4         50     65      False  \n",
       "..       ...    ...        ...  \n",
       "795      150     50       True  \n",
       "796      110    110       True  \n",
       "797      130     70       True  \n",
       "798      130     80       True  \n",
       "799       90     70       True  \n",
       "\n",
       "[800 rows x 11 columns]"
      ]
     },
     "execution_count": 9,
     "metadata": {},
     "output_type": "execute_result"
    }
   ],
   "source": [
    "pokemon_path = 'https://raw.githubusercontent.com/a-milenkin/datasets_for_t-tests/main/pokemon.csv'\n",
    "pokemon = pd.read_csv(pokemon_path, error_bad_lines=False)\n",
    "pokemon"
   ]
  },
  {
   "cell_type": "code",
   "execution_count": 54,
   "metadata": {},
   "outputs": [
    {
     "data": {
      "text/plain": [
       "pid          False\n",
       "Name          True\n",
       "Class 1      False\n",
       "Class 2       True\n",
       "HP           False\n",
       "Attack       False\n",
       "Defense      False\n",
       "Sp. Atk      False\n",
       "Sp. Def      False\n",
       "Speed        False\n",
       "Legendary    False\n",
       "dtype: bool"
      ]
     },
     "execution_count": 54,
     "metadata": {},
     "output_type": "execute_result"
    }
   ],
   "source": [
    "# изучим датасет на предмет пропусков\n",
    "pokemon.isna().any()\n",
    "\n",
    "# видим, что пропуски есть в столбцах Name и Class 2. Отсутствие значений в Class 2 не вызывает вопросов, т.к. класс может быть 1."
   ]
  },
  {
   "cell_type": "code",
   "execution_count": 53,
   "metadata": {},
   "outputs": [
    {
     "data": {
      "text/html": [
       "<div>\n",
       "<style scoped>\n",
       "    .dataframe tbody tr th:only-of-type {\n",
       "        vertical-align: middle;\n",
       "    }\n",
       "\n",
       "    .dataframe tbody tr th {\n",
       "        vertical-align: top;\n",
       "    }\n",
       "\n",
       "    .dataframe thead th {\n",
       "        text-align: right;\n",
       "    }\n",
       "</style>\n",
       "<table border=\"1\" class=\"dataframe\">\n",
       "  <thead>\n",
       "    <tr style=\"text-align: right;\">\n",
       "      <th></th>\n",
       "      <th>pid</th>\n",
       "      <th>Name</th>\n",
       "      <th>Class 1</th>\n",
       "      <th>Class 2</th>\n",
       "      <th>HP</th>\n",
       "      <th>Attack</th>\n",
       "      <th>Defense</th>\n",
       "      <th>Sp. Atk</th>\n",
       "      <th>Sp. Def</th>\n",
       "      <th>Speed</th>\n",
       "      <th>Legendary</th>\n",
       "    </tr>\n",
       "  </thead>\n",
       "  <tbody>\n",
       "    <tr>\n",
       "      <th>62</th>\n",
       "      <td>63</td>\n",
       "      <td>NaN</td>\n",
       "      <td>Fighting</td>\n",
       "      <td>NaN</td>\n",
       "      <td>65</td>\n",
       "      <td>105</td>\n",
       "      <td>60</td>\n",
       "      <td>60</td>\n",
       "      <td>70</td>\n",
       "      <td>95</td>\n",
       "      <td>False</td>\n",
       "    </tr>\n",
       "  </tbody>\n",
       "</table>\n",
       "</div>"
      ],
      "text/plain": [
       "    pid Name   Class 1 Class 2  HP  Attack  Defense  Sp. Atk  Sp. Def  Speed  \\\n",
       "62   63  NaN  Fighting     NaN  65     105       60       60       70     95   \n",
       "\n",
       "    Legendary  \n",
       "62      False  "
      ]
     },
     "execution_count": 53,
     "metadata": {},
     "output_type": "execute_result"
    }
   ],
   "source": [
    "# отдельно рассмотрим пропуски в столбце Name\n",
    "pokemon[pokemon['Name'].isnull()]\n",
    "\n",
    "# видим, что строка не пустая, имеет id и другие данные\n",
    "# заменять или удалять не будем"
   ]
  },
  {
   "cell_type": "markdown",
   "metadata": {},
   "source": [
    "<div class=\"alert alert-info\">\n",
    "<b>Задание № 1:</b>\n",
    "    \n",
    "Профессор Оук подозревает, что покемоны в классе `grass` имеют более сильную обычную атаку, чем у покемонов в классе `rock`. Проверьте, прав ли он, и убедите его в своем выводе статистически.\n",
    "    \n",
    "    \n",
    "Примечание: если есть покемоны, которые относятся к обоим классам, просто выбросьте их;\n",
    "    \n",
    "Вы можете предположить, что распределение обычных атак является нормальным для всех классов покемонов.\n",
    "\n",
    "</div>\n"
   ]
  },
  {
   "cell_type": "code",
   "execution_count": 104,
   "metadata": {},
   "outputs": [
    {
     "data": {
      "text/html": [
       "<div>\n",
       "<style scoped>\n",
       "    .dataframe tbody tr th:only-of-type {\n",
       "        vertical-align: middle;\n",
       "    }\n",
       "\n",
       "    .dataframe tbody tr th {\n",
       "        vertical-align: top;\n",
       "    }\n",
       "\n",
       "    .dataframe thead th {\n",
       "        text-align: right;\n",
       "    }\n",
       "</style>\n",
       "<table border=\"1\" class=\"dataframe\">\n",
       "  <thead>\n",
       "    <tr style=\"text-align: right;\">\n",
       "      <th></th>\n",
       "      <th>Attack</th>\n",
       "      <th>Class</th>\n",
       "    </tr>\n",
       "  </thead>\n",
       "  <tbody>\n",
       "    <tr>\n",
       "      <th>0</th>\n",
       "      <td>49</td>\n",
       "      <td>Grass</td>\n",
       "    </tr>\n",
       "    <tr>\n",
       "      <th>1</th>\n",
       "      <td>62</td>\n",
       "      <td>Grass</td>\n",
       "    </tr>\n",
       "    <tr>\n",
       "      <th>2</th>\n",
       "      <td>82</td>\n",
       "      <td>Grass</td>\n",
       "    </tr>\n",
       "    <tr>\n",
       "      <th>3</th>\n",
       "      <td>100</td>\n",
       "      <td>Grass</td>\n",
       "    </tr>\n",
       "    <tr>\n",
       "      <th>48</th>\n",
       "      <td>50</td>\n",
       "      <td>Grass</td>\n",
       "    </tr>\n",
       "    <tr>\n",
       "      <th>...</th>\n",
       "      <td>...</td>\n",
       "      <td>...</td>\n",
       "    </tr>\n",
       "    <tr>\n",
       "      <th>785</th>\n",
       "      <td>85</td>\n",
       "      <td>Grass</td>\n",
       "    </tr>\n",
       "    <tr>\n",
       "      <th>786</th>\n",
       "      <td>95</td>\n",
       "      <td>Grass</td>\n",
       "    </tr>\n",
       "    <tr>\n",
       "      <th>787</th>\n",
       "      <td>100</td>\n",
       "      <td>Grass</td>\n",
       "    </tr>\n",
       "    <tr>\n",
       "      <th>795</th>\n",
       "      <td>100</td>\n",
       "      <td>Rock</td>\n",
       "    </tr>\n",
       "    <tr>\n",
       "      <th>796</th>\n",
       "      <td>160</td>\n",
       "      <td>Rock</td>\n",
       "    </tr>\n",
       "  </tbody>\n",
       "</table>\n",
       "<p>151 rows × 2 columns</p>\n",
       "</div>"
      ],
      "text/plain": [
       "     Attack  Class\n",
       "0        49  Grass\n",
       "1        62  Grass\n",
       "2        82  Grass\n",
       "3       100  Grass\n",
       "48       50  Grass\n",
       "..      ...    ...\n",
       "785      85  Grass\n",
       "786      95  Grass\n",
       "787     100  Grass\n",
       "795     100   Rock\n",
       "796     160   Rock\n",
       "\n",
       "[151 rows x 2 columns]"
      ]
     },
     "execution_count": 104,
     "metadata": {},
     "output_type": "execute_result"
    }
   ],
   "source": [
    "# функция, выделяющая нужные нам классы\n",
    "def grass_rock_function(row):\n",
    "    if (row['Class 1']=='Grass') | (row['Class 2']=='Grass') & (row['Class 1']!='Rock') & (row['Class 2']!='Rock'):\n",
    "        return 'Grass'\n",
    "    elif (row['Class 1']=='Rock') | (row['Class 2']=='Rock') & (row['Class 1']!='Grass') & (row['Class 2']!='Grass'):\n",
    "        return 'Rock'\n",
    "\n",
    "# создадим копию, чтобы не изменять исходный датафрейм, и применим функцию\n",
    "poke = pokemon.copy()\n",
    "poke['Class'] = poke.apply(grass_rock_function, axis=1)\n",
    "\n",
    "# оставим только нужные для задачи столбцы и строки\n",
    "grass_rock = poke.loc[(poke['Class']=='Grass') | (poke['Class']=='Rock'), ['Attack', 'Class']]\n",
    "grass_rock"
   ]
  },
  {
   "cell_type": "code",
   "execution_count": 107,
   "metadata": {},
   "outputs": [
    {
     "name": "stdout",
     "output_type": "stream",
     "text": [
      "Student's p-value = 0.00055\n",
      "Классы Grass и Rock действительно имеют различную силу обычной атаки, отвергаем Н0.\n"
     ]
    }
   ],
   "source": [
    "# будем считать, что выборки независимы, имеют нормальное распределение\n",
    "# применим t-критерий\n",
    "# Н0: силы обычной атаки для grass и rock совпадают\n",
    "t_gr, p_gr = stats.ttest_ind(grass_rock[grass_rock['Class']=='Grass']['Attack'], grass_rock[grass_rock['Class']=='Rock']['Attack'])\n",
    "print(\"Student's p-value = {:.5f}\".format(p_gr))\n",
    "\n",
    "if p_gr <= 0.05:\n",
    "    print('Классы Grass и Rock действительно имеют различную силу обычной атаки, отвергаем Н0.')\n",
    "else:\n",
    "    print('Похоже, что силы обычных атак совпадают, не отвергаем Н0.')"
   ]
  },
  {
   "cell_type": "code",
   "execution_count": 108,
   "metadata": {},
   "outputs": [
    {
     "data": {
      "text/plain": [
       "<AxesSubplot:xlabel='Class', ylabel='Attack'>"
      ]
     },
     "execution_count": 108,
     "metadata": {},
     "output_type": "execute_result"
    },
    {
     "data": {
      "image/png": "[encoded data removed]",
      "text/plain": [
       "<Figure size 432x288 with 1 Axes>"
      ]
     },
     "metadata": {
      "needs_background": "light"
     },
     "output_type": "display_data"
    }
   ],
   "source": [
    "# визуализация\n",
    "sns.boxplot(x='Class', y='Attack', data=grass_rock)"
   ]
  },
  {
   "cell_type": "markdown",
   "metadata": {},
   "source": [
    "На графике видно, что выводы профессора не совсем верны. Покемоны Grass и Rock действительно имеют разную силу аттаки. Однако, более сильными являются покемоны класса Rock, медианное значение силы их обычной аттаки выше аналогичного показателя для класса Grass."
   ]
  },
  {
   "cell_type": "markdown",
   "metadata": {},
   "source": [
    "<div class=\"alert alert-info\">\n",
    "<b>Задание № 2:</b>\n",
    "    \n",
    "Профессор Оук уже долго не может спать по ночам ведь его волнует вопрос, а правда, что покемоны в классе `Water` в среднем более быстрые, чем покемоны в классе `Normal`. \n",
    "    \n",
    "    \n",
    "Проверьте, прав ли он, и убедите его в своем выводе статистически.\n",
    "    \n",
    "Примечание: если есть покемоны относятся к обоим классам, выбросьте их;\n",
    "    \n",
    "Вы можете предположить, что распределение скорости движения является нормальным для всех классов покемонов.\n",
    "\n",
    "</div>"
   ]
  },
  {
   "cell_type": "code",
   "execution_count": 110,
   "metadata": {},
   "outputs": [
    {
     "data": {
      "text/html": [
       "<div>\n",
       "<style scoped>\n",
       "    .dataframe tbody tr th:only-of-type {\n",
       "        vertical-align: middle;\n",
       "    }\n",
       "\n",
       "    .dataframe tbody tr th {\n",
       "        vertical-align: top;\n",
       "    }\n",
       "\n",
       "    .dataframe thead th {\n",
       "        text-align: right;\n",
       "    }\n",
       "</style>\n",
       "<table border=\"1\" class=\"dataframe\">\n",
       "  <thead>\n",
       "    <tr style=\"text-align: right;\">\n",
       "      <th></th>\n",
       "      <th>Speed</th>\n",
       "      <th>Class</th>\n",
       "    </tr>\n",
       "  </thead>\n",
       "  <tbody>\n",
       "    <tr>\n",
       "      <th>9</th>\n",
       "      <td>43</td>\n",
       "      <td>Water</td>\n",
       "    </tr>\n",
       "    <tr>\n",
       "      <th>10</th>\n",
       "      <td>58</td>\n",
       "      <td>Water</td>\n",
       "    </tr>\n",
       "    <tr>\n",
       "      <th>11</th>\n",
       "      <td>78</td>\n",
       "      <td>Water</td>\n",
       "    </tr>\n",
       "    <tr>\n",
       "      <th>12</th>\n",
       "      <td>78</td>\n",
       "      <td>Water</td>\n",
       "    </tr>\n",
       "    <tr>\n",
       "      <th>20</th>\n",
       "      <td>56</td>\n",
       "      <td>Normal</td>\n",
       "    </tr>\n",
       "    <tr>\n",
       "      <th>...</th>\n",
       "      <td>...</td>\n",
       "      <td>...</td>\n",
       "    </tr>\n",
       "    <tr>\n",
       "      <th>762</th>\n",
       "      <td>44</td>\n",
       "      <td>Water</td>\n",
       "    </tr>\n",
       "    <tr>\n",
       "      <th>763</th>\n",
       "      <td>59</td>\n",
       "      <td>Water</td>\n",
       "    </tr>\n",
       "    <tr>\n",
       "      <th>764</th>\n",
       "      <td>70</td>\n",
       "      <td>Normal</td>\n",
       "    </tr>\n",
       "    <tr>\n",
       "      <th>765</th>\n",
       "      <td>109</td>\n",
       "      <td>Normal</td>\n",
       "    </tr>\n",
       "    <tr>\n",
       "      <th>799</th>\n",
       "      <td>70</td>\n",
       "      <td>Water</td>\n",
       "    </tr>\n",
       "  </tbody>\n",
       "</table>\n",
       "<p>227 rows × 2 columns</p>\n",
       "</div>"
      ],
      "text/plain": [
       "     Speed   Class\n",
       "9       43   Water\n",
       "10      58   Water\n",
       "11      78   Water\n",
       "12      78   Water\n",
       "20      56  Normal\n",
       "..     ...     ...\n",
       "762     44   Water\n",
       "763     59   Water\n",
       "764     70  Normal\n",
       "765    109  Normal\n",
       "799     70   Water\n",
       "\n",
       "[227 rows x 2 columns]"
      ]
     },
     "execution_count": 110,
     "metadata": {},
     "output_type": "execute_result"
    }
   ],
   "source": [
    "# функция, выделяющая нужные нам классы\n",
    "def water_normal_function(row):\n",
    "    if (row['Class 1']=='Water') | (row['Class 2']=='Water') & (row['Class 1']!='Normal') & (row['Class 2']!='Normal'):\n",
    "        return 'Water'\n",
    "    elif (row['Class 1']=='Normal') | (row['Class 2']=='Normal') & (row['Class 1']!='Water') & (row['Class 2']!='Water'):\n",
    "        return 'Normal'\n",
    "\n",
    "# создадим копию, чтобы не изменять исходный датафрейм, и применим функцию\n",
    "poke_2 = pokemon.copy()\n",
    "poke_2['Class'] = poke_2.apply(water_normal_function, axis=1)\n",
    "\n",
    "# оставим только нужные для задачи столбцы и строки\n",
    "water_normal = poke_2.loc[(poke_2['Class']=='Water') | (poke_2['Class']=='Normal'), ['Speed', 'Class']]\n",
    "water_normal"
   ]
  },
  {
   "cell_type": "code",
   "execution_count": 116,
   "metadata": {},
   "outputs": [
    {
     "name": "stdout",
     "output_type": "stream",
     "text": [
      "Student's p-value = 0.03199\n",
      "Классы Water и Normal действительно имеют различную скорость, отвергаем Н0.\n"
     ]
    }
   ],
   "source": [
    "# будем считать, что выборки независимы, имеют нормальное распределение\n",
    "# применим t-критерий\n",
    "# Н0: скорости для классов water и normal совпадают\n",
    "t_wn, p_wn = stats.ttest_ind(water_normal[water_normal['Class']=='Water']['Speed'], water_normal[water_normal['Class']=='Normal']['Speed'])\n",
    "print(\"Student's p-value = {:.5f}\".format(p_wn))\n",
    "\n",
    "if p_wn <= 0.05:\n",
    "    print('Классы Water и Normal действительно имеют различную скорость, отвергаем Н0.')\n",
    "else:\n",
    "    print('Похоже, что скорости классов Water и Normal совпадают, не отвергаем Н0.')"
   ]
  },
  {
   "cell_type": "code",
   "execution_count": 118,
   "metadata": {},
   "outputs": [
    {
     "data": {
      "text/plain": [
       "<AxesSubplot:xlabel='Class', ylabel='Speed'>"
      ]
     },
     "execution_count": 118,
     "metadata": {},
     "output_type": "execute_result"
    },
    {
     "data": {
      "image/png": "[encoded data removed]",
      "text/plain": [
       "<Figure size 432x288 with 1 Axes>"
      ]
     },
     "metadata": {
      "needs_background": "light"
     },
     "output_type": "display_data"
    }
   ],
   "source": [
    "# визуализация\n",
    "sns.boxplot(x='Class', y='Speed', data=water_normal)"
   ]
  },
  {
   "cell_type": "markdown",
   "metadata": {},
   "source": [
    "Покемоны класса Water в среднем имеют более низкую скорость по сравнению с классом Normal. Профессор снова ошибся."
   ]
  },
  {
   "cell_type": "markdown",
   "metadata": {},
   "source": [
    "<div class=\"alert alert-info\">\n",
    "<b>Задание № 3:</b>\n",
    "    \n",
    "Профессор Оук тот еще безумец. Он изобрел сыворотку, способную ускорить покемона. Однако, мы усомнились в эффективности его вакцины. Професоор дал эту сыворотку следующим покемонам: смотри массив `treathed_pokemon`. Проверьте, работает ли вообще его сыворотка, убедите всех в своем выводе статистически.\n",
    "    \n",
    "    \n",
    "Вы можете предположить, что распределение скорости движения является нормальным для всех классов покемонов.\n",
    "\n",
    "</div>"
   ]
  },
  {
   "cell_type": "code",
   "execution_count": 3,
   "metadata": {},
   "outputs": [],
   "source": [
    "# Покемоны, которые принимали сыворотку увеличения скорости\n",
    "treathed_pokemon = ['Mega Beedrill','Mega Alakazam', 'Deoxys Normal Forme', 'Mega Lopunny']"
   ]
  },
  {
   "cell_type": "code",
   "execution_count": 57,
   "metadata": {},
   "outputs": [
    {
     "data": {
      "text/html": [
       "<div>\n",
       "<style scoped>\n",
       "    .dataframe tbody tr th:only-of-type {\n",
       "        vertical-align: middle;\n",
       "    }\n",
       "\n",
       "    .dataframe tbody tr th {\n",
       "        vertical-align: top;\n",
       "    }\n",
       "\n",
       "    .dataframe thead th {\n",
       "        text-align: right;\n",
       "    }\n",
       "</style>\n",
       "<table border=\"1\" class=\"dataframe\">\n",
       "  <thead>\n",
       "    <tr style=\"text-align: right;\">\n",
       "      <th></th>\n",
       "      <th>Speed</th>\n",
       "      <th>Injection</th>\n",
       "    </tr>\n",
       "  </thead>\n",
       "  <tbody>\n",
       "    <tr>\n",
       "      <th>0</th>\n",
       "      <td>45</td>\n",
       "      <td>not_treated</td>\n",
       "    </tr>\n",
       "    <tr>\n",
       "      <th>1</th>\n",
       "      <td>60</td>\n",
       "      <td>not_treated</td>\n",
       "    </tr>\n",
       "    <tr>\n",
       "      <th>2</th>\n",
       "      <td>80</td>\n",
       "      <td>not_treated</td>\n",
       "    </tr>\n",
       "    <tr>\n",
       "      <th>3</th>\n",
       "      <td>80</td>\n",
       "      <td>not_treated</td>\n",
       "    </tr>\n",
       "    <tr>\n",
       "      <th>4</th>\n",
       "      <td>65</td>\n",
       "      <td>not_treated</td>\n",
       "    </tr>\n",
       "    <tr>\n",
       "      <th>...</th>\n",
       "      <td>...</td>\n",
       "      <td>...</td>\n",
       "    </tr>\n",
       "    <tr>\n",
       "      <th>795</th>\n",
       "      <td>50</td>\n",
       "      <td>not_treated</td>\n",
       "    </tr>\n",
       "    <tr>\n",
       "      <th>796</th>\n",
       "      <td>110</td>\n",
       "      <td>not_treated</td>\n",
       "    </tr>\n",
       "    <tr>\n",
       "      <th>797</th>\n",
       "      <td>70</td>\n",
       "      <td>not_treated</td>\n",
       "    </tr>\n",
       "    <tr>\n",
       "      <th>798</th>\n",
       "      <td>80</td>\n",
       "      <td>not_treated</td>\n",
       "    </tr>\n",
       "    <tr>\n",
       "      <th>799</th>\n",
       "      <td>70</td>\n",
       "      <td>not_treated</td>\n",
       "    </tr>\n",
       "  </tbody>\n",
       "</table>\n",
       "<p>800 rows × 2 columns</p>\n",
       "</div>"
      ],
      "text/plain": [
       "     Speed    Injection\n",
       "0       45  not_treated\n",
       "1       60  not_treated\n",
       "2       80  not_treated\n",
       "3       80  not_treated\n",
       "4       65  not_treated\n",
       "..     ...          ...\n",
       "795     50  not_treated\n",
       "796    110  not_treated\n",
       "797     70  not_treated\n",
       "798     80  not_treated\n",
       "799     70  not_treated\n",
       "\n",
       "[800 rows x 2 columns]"
      ]
     },
     "execution_count": 57,
     "metadata": {},
     "output_type": "execute_result"
    }
   ],
   "source": [
    "# функция, выделяющая нужные названия покемонов\n",
    "def treated_function(row):\n",
    "    for name in treathed_pokemon:\n",
    "        if name == row:\n",
    "            return 'treated'\n",
    "    return 'not_treated'\n",
    "    \n",
    "# создадим копию, чтобы не изменять исходный датафрейм, и применим функцию\n",
    "poke_3 = pokemon.copy()\n",
    "poke_3['Injection'] = poke_3['Name'].apply(treated_function)\n",
    "\n",
    "# оставим только нужные для задачи столбцы и строки\n",
    "treated = poke_3.loc[:, ['Speed', 'Injection']]\n",
    "treated"
   ]
  },
  {
   "cell_type": "code",
   "execution_count": 61,
   "metadata": {},
   "outputs": [
    {
     "name": "stdout",
     "output_type": "stream",
     "text": [
      "Student's p-value = 0.0000001\n",
      "Сыворотка эффективна, отвергаем Н0.\n"
     ]
    }
   ],
   "source": [
    "# будем считать, что выборки независимы, имеют нормальное распределение\n",
    "# применим t-критерий\n",
    "# Н0: сыворотка не эффективна\n",
    "t_t, p_t = stats.ttest_ind(treated[treated['Injection']=='not_treated']['Speed'], treated[treated['Injection']=='treated']['Speed'])\n",
    "print(\"Student's p-value = {:.7f}\".format(p_t))\n",
    "\n",
    "if p_t <= 0.05:\n",
    "    print('Сыворотка эффективна, отвергаем Н0.')\n",
    "else:\n",
    "    print('Сыворотка не эффективна, не отвергаем Н0.')"
   ]
  },
  {
   "cell_type": "code",
   "execution_count": 62,
   "metadata": {},
   "outputs": [
    {
     "data": {
      "text/plain": [
       "<AxesSubplot:xlabel='Injection', ylabel='Speed'>"
      ]
     },
     "execution_count": 62,
     "metadata": {},
     "output_type": "execute_result"
    },
    {
     "data": {
      "image/png": "[encoded data removed]",
      "text/plain": [
       "<Figure size 432x288 with 1 Axes>"
      ]
     },
     "metadata": {
      "needs_background": "light"
     },
     "output_type": "display_data"
    }
   ],
   "source": [
    "# визуализация\n",
    "sns.boxplot(x='Injection', y='Speed', data=treated)"
   ]
  },
  {
   "cell_type": "markdown",
   "metadata": {},
   "source": [
    "Статистика и визуализация показывает, что выбранные 4 типа покемонов имеют значительно более высокий показатель скорости.\n",
    "Однако, сложно утверждать является ли это результатом сыворотки или изначально были выбраны более быстрые покемоны. Эффективность сыворотки вероятно лучшего всего можно было бы оценить \"до\" и \"после\" на той же самой выборке."
   ]
  },
  {
   "cell_type": "markdown",
   "metadata": {},
   "source": [
    "<div class=\"alert alert-info\">\n",
    "<b>Задание № 4:</b>\n",
    "    \n",
    "Профессор Оук всегда любил истории про легендарных покемонов. Однако, профессор не очень уверен, что они самые лучшие относительно остальных покемонов. Оук предложил разобраться в этом нам. Проверьте, действительно ли сумма характеристик `HP`,`Attack`,`Defense` у легендарных покемонов выше, чем у других покемонов? А произведение этих же параметров?? Найдите ответы на эти вопросы и убедите всех в своем выводе статистически.\n",
    "   \n",
    "\n",
    "Вы можете предположить, что распределение сум и произведений этих параметров является нормальным для всех классов покемонов.\n",
    "\n",
    "</div>"
   ]
  },
  {
   "cell_type": "code",
   "execution_count": 65,
   "metadata": {},
   "outputs": [
    {
     "data": {
      "text/html": [
       "<div>\n",
       "<style scoped>\n",
       "    .dataframe tbody tr th:only-of-type {\n",
       "        vertical-align: middle;\n",
       "    }\n",
       "\n",
       "    .dataframe tbody tr th {\n",
       "        vertical-align: top;\n",
       "    }\n",
       "\n",
       "    .dataframe thead th {\n",
       "        text-align: right;\n",
       "    }\n",
       "</style>\n",
       "<table border=\"1\" class=\"dataframe\">\n",
       "  <thead>\n",
       "    <tr style=\"text-align: right;\">\n",
       "      <th></th>\n",
       "      <th>Legendary</th>\n",
       "      <th>Sum</th>\n",
       "      <th>Multiplication</th>\n",
       "    </tr>\n",
       "  </thead>\n",
       "  <tbody>\n",
       "    <tr>\n",
       "      <th>0</th>\n",
       "      <td>False</td>\n",
       "      <td>143</td>\n",
       "      <td>108045</td>\n",
       "    </tr>\n",
       "    <tr>\n",
       "      <th>1</th>\n",
       "      <td>False</td>\n",
       "      <td>185</td>\n",
       "      <td>234360</td>\n",
       "    </tr>\n",
       "    <tr>\n",
       "      <th>2</th>\n",
       "      <td>False</td>\n",
       "      <td>245</td>\n",
       "      <td>544480</td>\n",
       "    </tr>\n",
       "    <tr>\n",
       "      <th>3</th>\n",
       "      <td>False</td>\n",
       "      <td>303</td>\n",
       "      <td>984000</td>\n",
       "    </tr>\n",
       "    <tr>\n",
       "      <th>4</th>\n",
       "      <td>False</td>\n",
       "      <td>134</td>\n",
       "      <td>87204</td>\n",
       "    </tr>\n",
       "    <tr>\n",
       "      <th>...</th>\n",
       "      <td>...</td>\n",
       "      <td>...</td>\n",
       "      <td>...</td>\n",
       "    </tr>\n",
       "    <tr>\n",
       "      <th>795</th>\n",
       "      <td>True</td>\n",
       "      <td>300</td>\n",
       "      <td>750000</td>\n",
       "    </tr>\n",
       "    <tr>\n",
       "      <th>796</th>\n",
       "      <td>True</td>\n",
       "      <td>320</td>\n",
       "      <td>880000</td>\n",
       "    </tr>\n",
       "    <tr>\n",
       "      <th>797</th>\n",
       "      <td>True</td>\n",
       "      <td>250</td>\n",
       "      <td>528000</td>\n",
       "    </tr>\n",
       "    <tr>\n",
       "      <th>798</th>\n",
       "      <td>True</td>\n",
       "      <td>300</td>\n",
       "      <td>768000</td>\n",
       "    </tr>\n",
       "    <tr>\n",
       "      <th>799</th>\n",
       "      <td>True</td>\n",
       "      <td>310</td>\n",
       "      <td>1056000</td>\n",
       "    </tr>\n",
       "  </tbody>\n",
       "</table>\n",
       "<p>800 rows × 3 columns</p>\n",
       "</div>"
      ],
      "text/plain": [
       "     Legendary  Sum  Multiplication\n",
       "0        False  143          108045\n",
       "1        False  185          234360\n",
       "2        False  245          544480\n",
       "3        False  303          984000\n",
       "4        False  134           87204\n",
       "..         ...  ...             ...\n",
       "795       True  300          750000\n",
       "796       True  320          880000\n",
       "797       True  250          528000\n",
       "798       True  300          768000\n",
       "799       True  310         1056000\n",
       "\n",
       "[800 rows x 3 columns]"
      ]
     },
     "execution_count": 65,
     "metadata": {},
     "output_type": "execute_result"
    }
   ],
   "source": [
    "# функция, рассчитывающая сумму HP, Attack, Defense, для всех покемонов\n",
    "def sum_func(row):\n",
    "    return (row['HP'] + row['Attack'] + row['Defense'])\n",
    "\n",
    "def multi_func(row):\n",
    "    return row['HP'] * row['Attack'] * row['Defense']\n",
    "\n",
    "# создадим копию, чтобы не изменять исходный датафрейм, и применим функцию\n",
    "poke_4 = pokemon.copy()\n",
    "poke_4['Sum'] = poke_4.apply(sum_func, axis=1)\n",
    "poke_4['Multiplication'] = poke_4.apply(multi_func, axis=1)\n",
    "\n",
    "# оставим только нужные для задачи столбцы и строки\n",
    "legendary = poke_4.loc[:, ['Legendary', 'Sum', 'Multiplication']]\n",
    "legendary"
   ]
  },
  {
   "cell_type": "code",
   "execution_count": 94,
   "metadata": {},
   "outputs": [
    {
     "name": "stdout",
     "output_type": "stream",
     "text": [
      "Student's p-value (sum) = 0.00000000000000000000000000008\n",
      "Легендарные и обычные покемоны отличаются, отвергаем Н0.\n",
      "\n",
      "Student's p-value (multiplication) = 0.000000000000000000000000000000000002\n",
      "Легендарные и обычные покемоны отличаются, отвергаем Н0.\n"
     ]
    }
   ],
   "source": [
    "# выборки независимы, имеют нормальное распределение\n",
    "# применим t-критерий\n",
    "# Н0: разница в суммарных качествах (HP, Attack, Defense) между легендарными пакемонами и обычными отсутствует\n",
    "t_ls, p_ls = stats.ttest_ind(legendary[legendary['Legendary']==False]['Sum'], legendary[legendary['Legendary']==True]['Sum'])\n",
    "print(\"Student's p-value (sum) = {:.29f}\".format(p_ls))\n",
    "\n",
    "if p_ls <= 0.05:\n",
    "    print('Легендарные и обычные покемоны отличаются, отвергаем Н0.')\n",
    "else:\n",
    "    print('Легендарные и обычные покемоны не отличаются, не отвергаем Н0.')\n",
    "    \n",
    "print()\n",
    "\n",
    "# Н0: разница в произведении качеств (HP, Attack, Defense) между легендарными пакемонами и обычными отсутствует\n",
    "t_lm, p_lm = stats.ttest_ind(legendary[legendary['Legendary']==False]['Multiplication'], legendary[legendary['Legendary']==True]['Multiplication'])\n",
    "print(\"Student's p-value (multiplication) = {:.36f}\".format(p_lm))\n",
    "\n",
    "if p_lm <= 0.05:\n",
    "    print('Легендарные и обычные покемоны отличаются, отвергаем Н0.')\n",
    "else:\n",
    "    print('Легендарные и обычные покемоны не отличаются, не отвергаем Н0.')"
   ]
  },
  {
   "cell_type": "code",
   "execution_count": 88,
   "metadata": {},
   "outputs": [
    {
     "data": {
      "text/plain": [
       "<AxesSubplot:xlabel='Legendary', ylabel='Sum'>"
      ]
     },
     "execution_count": 88,
     "metadata": {},
     "output_type": "execute_result"
    },
    {
     "data": {
      "image/png": "[encoded data removed]",
      "text/plain": [
       "<Figure size 432x288 with 1 Axes>"
      ]
     },
     "metadata": {
      "needs_background": "light"
     },
     "output_type": "display_data"
    }
   ],
   "source": [
    "# визуализация\n",
    "sns.boxplot(x='Legendary', y='Sum', data=legendary)"
   ]
  },
  {
   "cell_type": "markdown",
   "metadata": {},
   "source": [
    "Суммарные показатели (также как и их произведения) легендарных покемонов действительно превосходят обычных. Профессор прав."
   ]
  },
  {
   "cell_type": "markdown",
   "metadata": {},
   "source": [
    "<div class=\"alert alert-info\">\n",
    "<b>Задание № 5:</b>\n",
    "    \n",
    "Профессор Оук частенько наблюдает за боями покемонов. После очередных таких боев Оук выделил три класса `best_defence_class`, которые на его взгляд одинаковы по \"силе обычной защиты\" `Defense`. Проверьте, действительно ли эти классы покемонов не отличаются по уровню защиты статистически значимо? Все та же статистика вам в помощь! \n",
    "   \n",
    "\n",
    "Вы можете предположить, что распределение сум и произведений этих параметров является нормальным для всех классов покемонов.\n",
    "\n",
    "</div>"
   ]
  },
  {
   "cell_type": "code",
   "execution_count": 10,
   "metadata": {},
   "outputs": [],
   "source": [
    "best_defence_class = ['Rock', 'Ground','Steel','Ice']"
   ]
  },
  {
   "cell_type": "code",
   "execution_count": 19,
   "metadata": {},
   "outputs": [
    {
     "data": {
      "text/html": [
       "<div>\n",
       "<style scoped>\n",
       "    .dataframe tbody tr th:only-of-type {\n",
       "        vertical-align: middle;\n",
       "    }\n",
       "\n",
       "    .dataframe tbody tr th {\n",
       "        vertical-align: top;\n",
       "    }\n",
       "\n",
       "    .dataframe thead th {\n",
       "        text-align: right;\n",
       "    }\n",
       "</style>\n",
       "<table border=\"1\" class=\"dataframe\">\n",
       "  <thead>\n",
       "    <tr style=\"text-align: right;\">\n",
       "      <th></th>\n",
       "      <th>Class 1</th>\n",
       "      <th>Class 2</th>\n",
       "      <th>Defense</th>\n",
       "      <th>Best defense</th>\n",
       "    </tr>\n",
       "  </thead>\n",
       "  <tbody>\n",
       "    <tr>\n",
       "      <th>32</th>\n",
       "      <td>Ground</td>\n",
       "      <td>NaN</td>\n",
       "      <td>85</td>\n",
       "      <td>Ground</td>\n",
       "    </tr>\n",
       "    <tr>\n",
       "      <th>33</th>\n",
       "      <td>Ground</td>\n",
       "      <td>NaN</td>\n",
       "      <td>110</td>\n",
       "      <td>Ground</td>\n",
       "    </tr>\n",
       "    <tr>\n",
       "      <th>36</th>\n",
       "      <td>Poison</td>\n",
       "      <td>Ground</td>\n",
       "      <td>87</td>\n",
       "      <td>Ground</td>\n",
       "    </tr>\n",
       "    <tr>\n",
       "      <th>39</th>\n",
       "      <td>Poison</td>\n",
       "      <td>Ground</td>\n",
       "      <td>77</td>\n",
       "      <td>Ground</td>\n",
       "    </tr>\n",
       "    <tr>\n",
       "      <th>55</th>\n",
       "      <td>Ground</td>\n",
       "      <td>NaN</td>\n",
       "      <td>25</td>\n",
       "      <td>Ground</td>\n",
       "    </tr>\n",
       "    <tr>\n",
       "      <th>...</th>\n",
       "      <td>...</td>\n",
       "      <td>...</td>\n",
       "      <td>...</td>\n",
       "      <td>...</td>\n",
       "    </tr>\n",
       "    <tr>\n",
       "      <th>788</th>\n",
       "      <td>Ice</td>\n",
       "      <td>NaN</td>\n",
       "      <td>85</td>\n",
       "      <td>Ice</td>\n",
       "    </tr>\n",
       "    <tr>\n",
       "      <th>789</th>\n",
       "      <td>Ice</td>\n",
       "      <td>NaN</td>\n",
       "      <td>184</td>\n",
       "      <td>Ice</td>\n",
       "    </tr>\n",
       "    <tr>\n",
       "      <th>794</th>\n",
       "      <td>Dragon</td>\n",
       "      <td>Ground</td>\n",
       "      <td>121</td>\n",
       "      <td>Ground</td>\n",
       "    </tr>\n",
       "    <tr>\n",
       "      <th>795</th>\n",
       "      <td>Rock</td>\n",
       "      <td>Fairy</td>\n",
       "      <td>150</td>\n",
       "      <td>Rock</td>\n",
       "    </tr>\n",
       "    <tr>\n",
       "      <th>796</th>\n",
       "      <td>Rock</td>\n",
       "      <td>Fairy</td>\n",
       "      <td>110</td>\n",
       "      <td>Rock</td>\n",
       "    </tr>\n",
       "  </tbody>\n",
       "</table>\n",
       "<p>189 rows × 4 columns</p>\n",
       "</div>"
      ],
      "text/plain": [
       "    Class 1 Class 2  Defense Best defense\n",
       "32   Ground     NaN       85       Ground\n",
       "33   Ground     NaN      110       Ground\n",
       "36   Poison  Ground       87       Ground\n",
       "39   Poison  Ground       77       Ground\n",
       "55   Ground     NaN       25       Ground\n",
       "..      ...     ...      ...          ...\n",
       "788     Ice     NaN       85          Ice\n",
       "789     Ice     NaN      184          Ice\n",
       "794  Dragon  Ground      121       Ground\n",
       "795    Rock   Fairy      150         Rock\n",
       "796    Rock   Fairy      110         Rock\n",
       "\n",
       "[189 rows x 4 columns]"
      ]
     },
     "execution_count": 19,
     "metadata": {},
     "output_type": "execute_result"
    }
   ],
   "source": [
    "# функция, выделяющая нужные классы\n",
    "def best_defence_func(row):\n",
    "    for class_ in best_defence_class:\n",
    "        if (row['Class 1']==class_) | (row['Class 2']==class_):\n",
    "            return class_\n",
    "\n",
    "# создадим копию, чтобы не изменять исходный датафрейм, и применим функцию\n",
    "poke_5 = pokemon.copy()\n",
    "poke_5['Best defense'] = poke_5.apply(best_defence_func, axis=1)\n",
    "\n",
    "# оставим только классы из выборки и нужные столбцы\n",
    "best_defense = poke_5.loc[poke_5['Best defense'].notna(), ['Class 1', 'Class 2', 'Defense', 'Best defense']]\n",
    "best_defense"
   ]
  },
  {
   "cell_type": "markdown",
   "metadata": {},
   "source": [
    "Проверим, есть ли в таблице best_defense строки, где класс 1 и класс 2 содержат классы из выборки. И если есть, удалим."
   ]
  },
  {
   "cell_type": "code",
   "execution_count": 15,
   "metadata": {},
   "outputs": [
    {
     "data": {
      "text/html": [
       "<div>\n",
       "<style scoped>\n",
       "    .dataframe tbody tr th:only-of-type {\n",
       "        vertical-align: middle;\n",
       "    }\n",
       "\n",
       "    .dataframe tbody tr th {\n",
       "        vertical-align: top;\n",
       "    }\n",
       "\n",
       "    .dataframe thead th {\n",
       "        text-align: right;\n",
       "    }\n",
       "</style>\n",
       "<table border=\"1\" class=\"dataframe\">\n",
       "  <thead>\n",
       "    <tr style=\"text-align: right;\">\n",
       "      <th></th>\n",
       "      <th>Class 1</th>\n",
       "      <th>Class 2</th>\n",
       "    </tr>\n",
       "  </thead>\n",
       "  <tbody>\n",
       "    <tr>\n",
       "      <th>0</th>\n",
       "      <td>Rock</td>\n",
       "      <td>Rock</td>\n",
       "    </tr>\n",
       "    <tr>\n",
       "      <th>1</th>\n",
       "      <td>Rock</td>\n",
       "      <td>Ground</td>\n",
       "    </tr>\n",
       "    <tr>\n",
       "      <th>2</th>\n",
       "      <td>Rock</td>\n",
       "      <td>Steel</td>\n",
       "    </tr>\n",
       "    <tr>\n",
       "      <th>3</th>\n",
       "      <td>Rock</td>\n",
       "      <td>Ice</td>\n",
       "    </tr>\n",
       "    <tr>\n",
       "      <th>4</th>\n",
       "      <td>Ground</td>\n",
       "      <td>Rock</td>\n",
       "    </tr>\n",
       "    <tr>\n",
       "      <th>5</th>\n",
       "      <td>Ground</td>\n",
       "      <td>Ground</td>\n",
       "    </tr>\n",
       "    <tr>\n",
       "      <th>6</th>\n",
       "      <td>Ground</td>\n",
       "      <td>Steel</td>\n",
       "    </tr>\n",
       "    <tr>\n",
       "      <th>7</th>\n",
       "      <td>Ground</td>\n",
       "      <td>Ice</td>\n",
       "    </tr>\n",
       "    <tr>\n",
       "      <th>8</th>\n",
       "      <td>Steel</td>\n",
       "      <td>Rock</td>\n",
       "    </tr>\n",
       "    <tr>\n",
       "      <th>9</th>\n",
       "      <td>Steel</td>\n",
       "      <td>Ground</td>\n",
       "    </tr>\n",
       "    <tr>\n",
       "      <th>10</th>\n",
       "      <td>Steel</td>\n",
       "      <td>Steel</td>\n",
       "    </tr>\n",
       "    <tr>\n",
       "      <th>11</th>\n",
       "      <td>Steel</td>\n",
       "      <td>Ice</td>\n",
       "    </tr>\n",
       "    <tr>\n",
       "      <th>12</th>\n",
       "      <td>Ice</td>\n",
       "      <td>Rock</td>\n",
       "    </tr>\n",
       "    <tr>\n",
       "      <th>13</th>\n",
       "      <td>Ice</td>\n",
       "      <td>Ground</td>\n",
       "    </tr>\n",
       "    <tr>\n",
       "      <th>14</th>\n",
       "      <td>Ice</td>\n",
       "      <td>Steel</td>\n",
       "    </tr>\n",
       "    <tr>\n",
       "      <th>15</th>\n",
       "      <td>Ice</td>\n",
       "      <td>Ice</td>\n",
       "    </tr>\n",
       "  </tbody>\n",
       "</table>\n",
       "</div>"
      ],
      "text/plain": [
       "   Class 1 Class 2\n",
       "0     Rock    Rock\n",
       "1     Rock  Ground\n",
       "2     Rock   Steel\n",
       "3     Rock     Ice\n",
       "4   Ground    Rock\n",
       "5   Ground  Ground\n",
       "6   Ground   Steel\n",
       "7   Ground     Ice\n",
       "8    Steel    Rock\n",
       "9    Steel  Ground\n",
       "10   Steel   Steel\n",
       "11   Steel     Ice\n",
       "12     Ice    Rock\n",
       "13     Ice  Ground\n",
       "14     Ice   Steel\n",
       "15     Ice     Ice"
      ]
     },
     "execution_count": 15,
     "metadata": {},
     "output_type": "execute_result"
    }
   ],
   "source": [
    "# сделаем таблицу из пар комбинаций best_defence_class\n",
    "# для этого преобразуем списки в таблицу и соединим их по принципу декартова произведения\n",
    "# (на пары из поторяющихся классов не будем обращать внимания, они никак нам не помещают)\n",
    "a = pd.DataFrame()\n",
    "a['Class 1'] = best_defence_class\n",
    "a['intersec'] = True\n",
    "\n",
    "b = pd.DataFrame()\n",
    "b['Class 2'] = best_defence_class\n",
    "b['intersec'] = True\n",
    "\n",
    "intersec = a.merge(b, on='intersec', how='left').drop('intersec', axis=1)\n",
    "intersec"
   ]
  },
  {
   "cell_type": "code",
   "execution_count": 23,
   "metadata": {},
   "outputs": [
    {
     "data": {
      "text/html": [
       "<div>\n",
       "<style scoped>\n",
       "    .dataframe tbody tr th:only-of-type {\n",
       "        vertical-align: middle;\n",
       "    }\n",
       "\n",
       "    .dataframe tbody tr th {\n",
       "        vertical-align: top;\n",
       "    }\n",
       "\n",
       "    .dataframe thead th {\n",
       "        text-align: right;\n",
       "    }\n",
       "</style>\n",
       "<table border=\"1\" class=\"dataframe\">\n",
       "  <thead>\n",
       "    <tr style=\"text-align: right;\">\n",
       "      <th></th>\n",
       "      <th>Class 1</th>\n",
       "      <th>Class 2</th>\n",
       "      <th>Defense</th>\n",
       "      <th>Best defense</th>\n",
       "    </tr>\n",
       "  </thead>\n",
       "  <tbody>\n",
       "    <tr>\n",
       "      <th>0</th>\n",
       "      <td>Ground</td>\n",
       "      <td>NaN</td>\n",
       "      <td>85</td>\n",
       "      <td>Ground</td>\n",
       "    </tr>\n",
       "    <tr>\n",
       "      <th>1</th>\n",
       "      <td>Ground</td>\n",
       "      <td>NaN</td>\n",
       "      <td>110</td>\n",
       "      <td>Ground</td>\n",
       "    </tr>\n",
       "    <tr>\n",
       "      <th>2</th>\n",
       "      <td>Poison</td>\n",
       "      <td>Ground</td>\n",
       "      <td>87</td>\n",
       "      <td>Ground</td>\n",
       "    </tr>\n",
       "    <tr>\n",
       "      <th>3</th>\n",
       "      <td>Poison</td>\n",
       "      <td>Ground</td>\n",
       "      <td>77</td>\n",
       "      <td>Ground</td>\n",
       "    </tr>\n",
       "    <tr>\n",
       "      <th>4</th>\n",
       "      <td>Ground</td>\n",
       "      <td>NaN</td>\n",
       "      <td>25</td>\n",
       "      <td>Ground</td>\n",
       "    </tr>\n",
       "    <tr>\n",
       "      <th>...</th>\n",
       "      <td>...</td>\n",
       "      <td>...</td>\n",
       "      <td>...</td>\n",
       "      <td>...</td>\n",
       "    </tr>\n",
       "    <tr>\n",
       "      <th>184</th>\n",
       "      <td>Ice</td>\n",
       "      <td>NaN</td>\n",
       "      <td>85</td>\n",
       "      <td>Ice</td>\n",
       "    </tr>\n",
       "    <tr>\n",
       "      <th>185</th>\n",
       "      <td>Ice</td>\n",
       "      <td>NaN</td>\n",
       "      <td>184</td>\n",
       "      <td>Ice</td>\n",
       "    </tr>\n",
       "    <tr>\n",
       "      <th>186</th>\n",
       "      <td>Dragon</td>\n",
       "      <td>Ground</td>\n",
       "      <td>121</td>\n",
       "      <td>Ground</td>\n",
       "    </tr>\n",
       "    <tr>\n",
       "      <th>187</th>\n",
       "      <td>Rock</td>\n",
       "      <td>Fairy</td>\n",
       "      <td>150</td>\n",
       "      <td>Rock</td>\n",
       "    </tr>\n",
       "    <tr>\n",
       "      <th>188</th>\n",
       "      <td>Rock</td>\n",
       "      <td>Fairy</td>\n",
       "      <td>110</td>\n",
       "      <td>Rock</td>\n",
       "    </tr>\n",
       "  </tbody>\n",
       "</table>\n",
       "<p>189 rows × 4 columns</p>\n",
       "</div>"
      ],
      "text/plain": [
       "    Class 1 Class 2  Defense Best defense\n",
       "0    Ground     NaN       85       Ground\n",
       "1    Ground     NaN      110       Ground\n",
       "2    Poison  Ground       87       Ground\n",
       "3    Poison  Ground       77       Ground\n",
       "4    Ground     NaN       25       Ground\n",
       "..      ...     ...      ...          ...\n",
       "184     Ice     NaN       85          Ice\n",
       "185     Ice     NaN      184          Ice\n",
       "186  Dragon  Ground      121       Ground\n",
       "187    Rock   Fairy      150         Rock\n",
       "188    Rock   Fairy      110         Rock\n",
       "\n",
       "[189 rows x 4 columns]"
      ]
     },
     "execution_count": 23,
     "metadata": {},
     "output_type": "execute_result"
    }
   ],
   "source": [
    "# проверим есть ли в тадлице best_defense строки, где оба класса - из выборки\n",
    "best_defense.merge(intersec, on=['Class 1', 'Class 2'], how='left')\n",
    "\n",
    "# таких строк не нашлось"
   ]
  },
  {
   "cell_type": "code",
   "execution_count": 26,
   "metadata": {},
   "outputs": [
    {
     "name": "stdout",
     "output_type": "stream",
     "text": [
      "Fisher's p-value = 0.00005\n",
      "Rock, Ground, Steel, Ice отличаются, отвергаем Н0.\n"
     ]
    }
   ],
   "source": [
    "# проверим, действительно ли эти классы покемонов не отличаются уровню защиты\n",
    "# применим дисперсионный анализ \n",
    "# Н0: классы не отличаются\n",
    "rock = best_defense[best_defense['Best defense']=='Rock']['Defense']\n",
    "groud = best_defense[best_defense['Best defense']=='Ground']['Defense']\n",
    "steel = best_defense[best_defense['Best defense']=='Steel']['Defense']\n",
    "ice = best_defense[best_defense['Best defense']=='Ice']['Defense']\n",
    "\n",
    "f_d, p_d = stats.f_oneway(rock, groud, steel, ice)\n",
    "print(\"Fisher's p-value = {:.5f}\".format(p_d))\n",
    "\n",
    "if p_d <= 0.05:\n",
    "    print('Rock, Ground, Steel, Ice отличаются, отвергаем Н0.')\n",
    "else:\n",
    "    print('Rock, Ground, Steel, Ice не отличаются, не отвергаем Н0.')"
   ]
  },
  {
   "cell_type": "code",
   "execution_count": 27,
   "metadata": {},
   "outputs": [
    {
     "data": {
      "text/plain": [
       "<AxesSubplot:xlabel='Best defense', ylabel='Defense'>"
      ]
     },
     "execution_count": 27,
     "metadata": {},
     "output_type": "execute_result"
    },
    {
     "data": {
      "image/png": "[encoded data removed]",
      "text/plain": [
       "<Figure size 432x288 with 1 Axes>"
      ]
     },
     "metadata": {
      "needs_background": "light"
     },
     "output_type": "display_data"
    }
   ],
   "source": [
    "# визуализация\n",
    "sns.boxplot(x='Best defense', y='Defense', data=best_defense)"
   ]
  },
  {
   "cell_type": "markdown",
   "metadata": {},
   "source": [
    "Профессор ошибся, выбранные классы покемоно отличаются, что подтверждает статистика.\n",
    "На графике видно, что из представленных 4х классов медианные значения близки соответственно у Rock и Steel, и у Ground и Ice."
   ]
  }
 ],
 "metadata": {
  "kernelspec": {
   "display_name": "Python 3",
   "language": "python",
   "name": "python3"
  },
  "language_info": {
   "codemirror_mode": {
    "name": "ipython",
    "version": 3
   },
   "file_extension": ".py",
   "mimetype": "text/x-python",
   "name": "python",
   "nbconvert_exporter": "python",
   "pygments_lexer": "ipython3",
   "version": "3.8.8"
  }
 },
 "nbformat": 4,
 "nbformat_minor": 4
}
